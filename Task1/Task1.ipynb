{
 "cells": [
  {
   "cell_type": "code",
   "execution_count": 269,
   "id": "25601a4d",
   "metadata": {},
   "outputs": [],
   "source": [
    "# Set up imports and load the data\n",
    "\n",
    "from sklearn.feature_extraction.text import CountVectorizer\n",
    "from sklearn.model_selection import train_test_split\n",
    "from sklearn.datasets import load_files\n",
    "from sklearn.naive_bayes import MultinomialNB\n",
    "from sklearn.metrics import confusion_matrix\n",
    "from sklearn.metrics import precision_score\n",
    "from sklearn.metrics import accuracy_score\n",
    "from sklearn.metrics import recall_score\n",
    "from sklearn.metrics import f1_score\n",
    "import matplotlib.pyplot as plt\n",
    "import os"
   ]
  },
  {
   "cell_type": "markdown",
   "id": "bdb51d8c",
   "metadata": {},
   "source": [
    "2. Plot the distribution of the instances in each class and save the graphic in a file called BBC-distribution.pdf. You may want to use matplotlib.pyplot and savefig to do this. This pre-analysis of the data set willallow you to determine if the classes are balanced, and which metric is more appropriate to use to evaluatethe performance of your classifier"
   ]
  },
  {
   "cell_type": "code",
   "execution_count": 270,
   "id": "f335cd44",
   "metadata": {},
   "outputs": [
    {
     "data": {
      "image/png": "[encoded data removed]",
      "text/plain": [
       "<Figure size 432x288 with 1 Axes>"
      ]
     },
     "metadata": {
      "needs_background": "light"
     },
     "output_type": "display_data"
    }
   ],
   "source": [
    "category_distribution = {'business':0, 'entertainment':0, 'politics':0, 'sport':0, 'tech':0};\n",
    "BBC_data_dir='../data/BBC';\n",
    "\n",
    "for name in os.listdir(BBC_data_dir):\n",
    "    if name in category_distribution.keys():\n",
    "        category_dir = os.path.join(BBC_data_dir, name)\n",
    "        files_in_directory = next(os.walk(category_dir))[2]\n",
    "        category_distribution[name] = len(files_in_directory)\n",
    "        \n",
    "fig = plt.figure()\n",
    "plt.bar(\n",
    "    category_distribution.keys(),\n",
    "    category_distribution.values(), \n",
    ");\n",
    "\n",
    "plt.xlabel('Categories')\n",
    "plt.ylabel('Number of Files')\n",
    "plt.title('BBC Data Distribution')\n",
    "\n",
    "plt.show()\n",
    "fig.savefig(\"BBC-distribution.pdf\")"
   ]
  },
  {
   "cell_type": "markdown",
   "id": "11fee5be",
   "metadata": {},
   "source": [
    "3. Load the corpus using load files and make sure you set the encoding to latin1. This will read the file structure and assign the category name to each file from their parent directory name."
   ]
  },
  {
   "cell_type": "code",
   "execution_count": 271,
   "id": "776a8f7d",
   "metadata": {},
   "outputs": [],
   "source": [
    "# 3. Load all the data from the files.\n",
    "corpus = load_files(\n",
    "    container_path='../data/BBC',\n",
    "    description='Reference: D. Greene and P. Cunningham.\"Practical Solutions to the Problem of Diagonal Dominance in Kernel Document Clustering\", Proc. ICML 2006.',\n",
    "    encoding='latin1'\n",
    ")"
   ]
  },
  {
   "cell_type": "markdown",
   "id": "89f86a14",
   "metadata": {},
   "source": [
    "4. Pre-process the dataset to have the features ready to be used by a multinomial Naive Bayes classifier. This means  that the frequency of each word in each class must be computed and stored in a term-document matrix. For this, you can use feature extraction.text.CountVectorizer."
   ]
  },
  {
   "cell_type": "code",
   "execution_count": 272,
   "id": "dc271d71",
   "metadata": {},
   "outputs": [],
   "source": [
    "# 4. Pre-process the data. Returns a dictionary, mapping terms to feature indices\n",
    "vectorizer = CountVectorizer(input='content', encoding='latin1') # Not sure if encoding needs to be latin1 here as well.\n",
    "term_document_dictionary = vectorizer.fit_transform(corpus.data)\n",
    "term_document_matrix = term_document_dictionary.toarray()"
   ]
  },
  {
   "cell_type": "markdown",
   "id": "c8ae2391",
   "metadata": {},
   "source": [
    "5. Split the dataset into 80% for training and 20% for testing. For this, you must use train test split with\n",
    "   the parameter random state set to None."
   ]
  },
  {
   "cell_type": "code",
   "execution_count": 273,
   "id": "4bdeda78",
   "metadata": {},
   "outputs": [],
   "source": [
    "# 5. Split the data\n",
    "target_labels = corpus.target\n",
    "X_train, X_test, y_train, y_test = train_test_split(\n",
    "    term_document_matrix, # Not sure if this should be term_document_dictionary\n",
    "    target_labels,\n",
    "    train_size=0.8, \n",
    "    test_size=0.2,\n",
    "    random_state=None\n",
    ")"
   ]
  },
  {
   "cell_type": "markdown",
   "id": "c644028b",
   "metadata": {},
   "source": [
    "6. Train a multinomial Naive Bayes Classifier (naive bayes.MultinomialNB) on the training set using the\n",
    "   default parameters and evaluate it on the test set."
   ]
  },
  {
   "cell_type": "code",
   "execution_count": 274,
   "id": "b53a9076",
   "metadata": {
    "scrolled": true
   },
   "outputs": [],
   "source": [
    "# Train (Calculate the probabilties)\n",
    "naive_bayes_classifier = MultinomialNB()\n",
    "naive_bayes_classifier.fit(X_train, y_train)\n",
    "\n",
    "# Use above calculated probabilities on the test set.\n",
    "y_naive_bayes_predict = naive_bayes_classifier.predict(X_test)"
   ]
  },
  {
   "cell_type": "markdown",
   "id": "c866e409",
   "metadata": {},
   "source": [
    "7. b) the confusion matrix"
   ]
  },
  {
   "cell_type": "code",
   "execution_count": 275,
   "id": "f8bcd82a",
   "metadata": {},
   "outputs": [
    {
     "name": "stdout",
     "output_type": "stream",
     "text": [
      "confusion matrix:\n",
      "[[103   0   2   0   3]\n",
      " [  0  86   1   0   1]\n",
      " [  0   1  74   0   0]\n",
      " [  0   0   0 106   0]\n",
      " [  0   0   0   0  68]]\n"
     ]
    }
   ],
   "source": [
    "# confusion matrix\n",
    "print(\"confusion matrix:\")\n",
    "print(confusion_matrix(y_test, y_naive_bayes_predict))"
   ]
  },
  {
   "cell_type": "markdown",
   "id": "405c6f19",
   "metadata": {},
   "source": [
    "7. c) the precision, recall, and F1-measure for each class"
   ]
  },
  {
   "cell_type": "code",
   "execution_count": 276,
   "id": "f290713e",
   "metadata": {},
   "outputs": [
    {
     "name": "stdout",
     "output_type": "stream",
     "text": [
      "precision score:\n",
      "[1.         0.98850575 0.96103896 1.         0.94444444]\n",
      "recall score:\n",
      "[0.9537037  0.97727273 0.98666667 1.         1.        ]\n",
      "f1-measure:\n",
      "[0.97630332 0.98285714 0.97368421 1.         0.97142857]\n"
     ]
    }
   ],
   "source": [
    "# precision score\n",
    "print(\"precision score:\")\n",
    "print(precision_score(y_test, y_naive_bayes_predict, average=None))\n",
    "\n",
    "# recall score\n",
    "print(\"recall score:\")\n",
    "print(recall_score(y_test, y_naive_bayes_predict, average=None))\n",
    "\n",
    "# f1-measure\n",
    "print(\"f1-measure:\")\n",
    "print(f1_score(y_test, y_naive_bayes_predict, average=None))"
   ]
  },
  {
   "cell_type": "markdown",
   "id": "172c8387",
   "metadata": {},
   "source": [
    "7. d) the accuracy, macro-average F1 and weighted-average F1 of the model"
   ]
  },
  {
   "cell_type": "code",
   "execution_count": 277,
   "id": "c5e5d514",
   "metadata": {},
   "outputs": [
    {
     "name": "stdout",
     "output_type": "stream",
     "text": [
      "accuracy score:\n",
      "0.9820224719101124\n",
      "macro-average f1 score:\n",
      "0.980854648469515\n",
      "weighted-average f1 score:\n",
      "0.9820576303637841\n"
     ]
    }
   ],
   "source": [
    "# accuracy\n",
    "print(\"accuracy score:\")\n",
    "print(accuracy_score(y_test, y_naive_bayes_predict))\n",
    "\n",
    "# macro-average f1\n",
    "print(\"macro-average f1 score:\")\n",
    "print(f1_score(y_test, y_naive_bayes_predict, average='macro'))\n",
    "\n",
    "# weighted-average f1\n",
    "print(\"weighted-average f1 score:\")\n",
    "print(f1_score(y_test, y_naive_bayes_predict, average='weighted'))"
   ]
  },
  {
   "cell_type": "markdown",
   "id": "6c8ea389",
   "metadata": {},
   "source": [
    "7. e) the prior probability of each class"
   ]
  },
  {
   "cell_type": "code",
   "execution_count": 278,
   "id": "fef4ba8b",
   "metadata": {},
   "outputs": [
    {
     "name": "stdout",
     "output_type": "stream",
     "text": [
      "dict_keys(['business', 'entertainment', 'politics', 'sport', 'tech'])\n",
      "dict_values([510, 386, 417, 511, 401])\n",
      "['business', 'entertainment', 'politics', 'sport', 'tech']\n",
      "\n",
      "\n",
      "\n",
      "\n",
      "P(category) = # of documents in category / total # of documents\n",
      "\n",
      "P(business) = 0.2258426966292135\n",
      "P(entertainment) = 0.16741573033707866\n",
      "P(politics) = 0.19213483146067414\n",
      "P(sport) = 0.22752808988764045\n",
      "P(tech) = 0.18707865168539325\n"
     ]
    }
   ],
   "source": [
    "# Not sure about here, there are less documents compared to what is displayed in the generated PDF, however I believe\n",
    "# that makes sense as we use an 80% training split. However the ordering of largest to smallest # of documents/category has changed\n",
    "# for example, sports previoussly had the most amount of documents, now it has the second most.\n",
    "\n",
    "# Not sure if perhaps the mapping of category_index to target_names is incorrect.\n",
    "\n",
    "print(category_distribution.keys())\n",
    "print(category_distribution.values())\n",
    "print(corpus.target_names)\n",
    "print(\"\\n\\n\\n\")\n",
    "\n",
    "# OR: use class_log_prior_ attribute. Maybe just show both?\n",
    "\n",
    "#### Answer, for now:\n",
    "# prior probability, probability of a category before any evidence is obtained \n",
    "# (i.e.) Probability of a category without looking at it's contents\n",
    "\n",
    "# Calculate total # of documents\n",
    "total_num_of_documents = sum(naive_bayes_classifier.class_count_);\n",
    "print(\"P(category) = # of documents in category / total # of documents\\n\")\n",
    "    \n",
    "for category_index in naive_bayes_classifier.classes_:\n",
    "    print(f\"P({corpus.target_names[category_index]}) = {naive_bayes_classifier.class_count_[category_index]/total_num_of_documents}\")\n",
    "\n",
    "\n",
    "    "
   ]
  },
  {
   "cell_type": "markdown",
   "id": "30e3e04c",
   "metadata": {},
   "source": [
    "7. f) the size of the vocabulary (i.e. the number of different words)"
   ]
  },
  {
   "cell_type": "code",
   "execution_count": 301,
   "id": "18e18173",
   "metadata": {},
   "outputs": [
    {
     "name": "stdout",
     "output_type": "stream",
     "text": [
      "Vocabulary size: 29421\n"
     ]
    }
   ],
   "source": [
    "#Vocabulary\n",
    "print(f\"Vocabulary size: {len(vectorizer.vocabulary_.keys())}\")"
   ]
  },
  {
   "cell_type": "markdown",
   "id": "c2309a06",
   "metadata": {},
   "source": [
    "7. g) the number of word-tokens in each class (i.e. the number of words in total)"
   ]
  },
  {
   "cell_type": "code",
   "execution_count": 305,
   "id": "cf5e7de2",
   "metadata": {},
   "outputs": [
    {
     "name": "stdout",
     "output_type": "stream",
     "text": [
      "# of word-tokens in class business: 129947\n",
      "# of word-tokens in class entertainment: 94628\n",
      "# of word-tokens in class politics: 148501\n",
      "# of word-tokens in class sport: 128973\n",
      "# of word-tokens in class tech: 164743\n"
     ]
    }
   ],
   "source": [
    "total_words_in_corpus=0\n",
    "for category_index in naive_bayes_classifier.classes_:\n",
    "    total_words_in_class=int(sum(naive_bayes_classifier.feature_count_[category_index]))\n",
    "    total_words_in_corpus+=total_words_in_class\n",
    "    print(f\"# of word-tokens in class {corpus.target_names[category_index]}: {total_words_in_class}\")                                                                         "
   ]
  },
  {
   "cell_type": "markdown",
   "id": "0ae16657",
   "metadata": {},
   "source": [
    "7. h) the number of word-tokens in the entire corpus"
   ]
  },
  {
   "cell_type": "code",
   "execution_count": 308,
   "id": "558d4ecc",
   "metadata": {},
   "outputs": [
    {
     "name": "stdout",
     "output_type": "stream",
     "text": [
      "Total words in corpus: 666792\n"
     ]
    }
   ],
   "source": [
    "print(f\"Total words in corpus: {total_words_in_corpus}\")"
   ]
  },
  {
   "cell_type": "markdown",
   "id": "7cb62881",
   "metadata": {},
   "source": [
    "7. i) the number and percentage of words with a frequency of zero in each class"
   ]
  },
  {
   "cell_type": "code",
   "execution_count": 313,
   "id": "6c9895dc",
   "metadata": {},
   "outputs": [
    {
     "name": "stdout",
     "output_type": "stream",
     "text": [
      "Number of words with a frequency of zero in class business: 18751\n",
      "Percentage of words with a frequency of zero in class business: 0.14429729043379225\n",
      "\n",
      "Number of words with a frequency of zero in class entertainment: 19359\n",
      "Percentage of words with a frequency of zero in class entertainment: 0.20458003973453945\n",
      "\n",
      "Number of words with a frequency of zero in class politics: 19300\n",
      "Percentage of words with a frequency of zero in class politics: 0.1299654547780823\n",
      "\n",
      "Number of words with a frequency of zero in class sport: 19974\n",
      "Percentage of words with a frequency of zero in class sport: 0.1548696238747645\n",
      "\n",
      "Number of words with a frequency of zero in class tech: 18213\n",
      "Percentage of words with a frequency of zero in class tech: 0.1105540144346042\n",
      "\n"
     ]
    }
   ],
   "source": [
    "for category_index in naive_bayes_classifier.classes_:\n",
    "    feature_count_only_zero = new_list = list(filter(lambda x: (x==0) , naive_bayes_classifier.feature_count_[category_index]))\n",
    "    number_of_zeroes_in_class=len(feature_count_only_zero)\n",
    "    total_words_in_class=int(sum(naive_bayes_classifier.feature_count_[category_index]))\n",
    "    print(f\"Number of words with a frequency of zero in class {corpus.target_names[category_index]}: {number_of_zeroes_in_class}\")\n",
    "    print(f\"Percentage of words with a frequency of zero in class {corpus.target_names[category_index]}: {number_of_zeroes_in_class/total_words_in_class}\\n\") "
   ]
  },
  {
   "cell_type": "markdown",
   "id": "8703050a",
   "metadata": {},
   "source": [
    "7. j) the number and percentage of words with a frequency of one in the entire corpus"
   ]
  },
  {
   "cell_type": "code",
   "execution_count": null,
   "id": "2623d11f",
   "metadata": {},
   "outputs": [],
   "source": []
  },
  {
   "cell_type": "markdown",
   "id": "0d0635bb",
   "metadata": {},
   "source": [
    "7. k) your 2 favorite words (that are present in the vocabulary) and their log-prob"
   ]
  },
  {
   "cell_type": "code",
   "execution_count": null,
   "id": "cc95a1b5",
   "metadata": {},
   "outputs": [],
   "source": []
  }
 ],
 "metadata": {
  "kernelspec": {
   "display_name": "Python 3",
   "language": "python",
   "name": "python3"
  },
  "language_info": {
   "codemirror_mode": {
    "name": "ipython",
    "version": 3
   },
   "file_extension": ".py",
   "mimetype": "text/x-python",
   "name": "python",
   "nbconvert_exporter": "python",
   "pygments_lexer": "ipython3",
   "version": "3.8.8"
  }
 },
 "nbformat": 4,
 "nbformat_minor": 5
}
