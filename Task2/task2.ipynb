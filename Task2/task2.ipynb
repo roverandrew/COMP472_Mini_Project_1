{
 "cells": [
  {
   "cell_type": "code",
   "execution_count": 253,
   "id": "cf969fca",
   "metadata": {},
   "outputs": [],
   "source": [
    "# 1-2 - Set up imports and load the data\n",
    "import pandas as pd\n",
    "import matplotlib.pyplot as plt\n",
    "from sklearn.model_selection import train_test_split\n",
    "from sklearn.naive_bayes import GaussianNB\n",
    "from sklearn import tree\n",
    "from sklearn.model_selection import GridSearchCV\n",
    "from sklearn.linear_model import Perceptron\n",
    "from sklearn.neural_network import MLPClassifier\n",
    "from sklearn.metrics import confusion_matrix\n",
    "from sklearn.metrics import precision_score\n",
    "from sklearn.metrics import recall_score\n",
    "from sklearn.metrics import f1_score\n",
    "from sklearn.metrics import accuracy_score\n",
    "\n",
    "data = pd.read_csv(\"../data/drug200.csv\")"
   ]
  },
  {
   "cell_type": "code",
   "execution_count": 254,
   "id": "4cf2d87f",
   "metadata": {},
   "outputs": [
    {
     "data": {
      "image/png": "[encoded data removed]",
      "text/plain": [
       "<Figure size 432x288 with 1 Axes>"
      ]
     },
     "metadata": {
      "needs_background": "light"
     },
     "output_type": "display_data"
    }
   ],
   "source": [
    "# 3 - Plot instances of each drug\n",
    "drug_instance_count = pd.DataFrame(data[\"Drug\"].value_counts(ascending=True))\n",
    "drug_instance_count_chart = drug_instance_count.plot.bar().get_figure()\n",
    "drug_instance_count_chart.savefig(\"drug-distribution.pdf\")"
   ]
  },
  {
   "cell_type": "code",
   "execution_count": 255,
   "id": "dc8475dc",
   "metadata": {},
   "outputs": [],
   "source": [
    "# 4 - Convert all ordinal and nominal features in numerical format\n",
    "results = data['Drug']\n",
    "features = data.loc[:, data.columns != 'Drug']\n",
    "data_numerical = pd.get_dummies(features, columns = ['Sex', 'BP', 'Cholesterol'])"
   ]
  },
  {
   "cell_type": "code",
   "execution_count": 295,
   "id": "2408783d",
   "metadata": {},
   "outputs": [],
   "source": [
    "# 5 - Split data set\n",
    "training_x, test_x, training_y, test_y = train_test_split(data_numerical, results)"
   ]
  },
  {
   "cell_type": "code",
   "execution_count": 296,
   "id": "ae063b86",
   "metadata": {},
   "outputs": [
    {
     "name": "stdout",
     "output_type": "stream",
     "text": [
      "[[ 7  0  0  0  0]\n",
      " [ 0  4  0  0  0]\n",
      " [ 0  0  4  0  0]\n",
      " [ 0  0  0 13  0]\n",
      " [ 6  2  3  5  6]]\n",
      "[0.53846154 0.66666667 0.57142857 0.72222222 1.        ]\n",
      "[1.         1.         1.         1.         0.27272727]\n",
      "[0.7        0.8        0.72727273 0.83870968 0.42857143]\n",
      "0.68\n",
      "0.6989107666527021\n",
      "0.6268177628822791\n"
     ]
    }
   ],
   "source": [
    "# 5a - Gaussian Naive Bayes Classifier\n",
    "gaussian_model = GaussianNB()\n",
    "gaussian_model.fit(training_x, training_y)\n",
    "gaussian_y_pred = gaussian_model.predict(test_x)\n",
    "print(gaussian_y_pred)\n",
    "\n",
    "# confusion matrix\n",
    "print(confusion_matrix(test_y, gaussian_y_pred))\n",
    "\n",
    "# precision score\n",
    "print(precision_score(test_y, gaussian_y_pred, average=None))\n",
    "\n",
    "# recall score\n",
    "print(recall_score(test_y, gaussian_y_pred, average=None))\n",
    "\n",
    "# f1-measure\n",
    "print(f1_score(test_y, gaussian_y_pred, average=None))\n",
    "\n",
    "# accuracy\n",
    "print(accuracy_score(test_y, gaussian_y_pred))\n",
    "\n",
    "# macro-average f1\n",
    "print(f1_score(test_y, gaussian_y_pred, average='macro'))\n",
    "\n",
    "# weighted-average f1\n",
    "print(f1_score(test_y, gaussian_y_pred, average='weighted'))"
   ]
  },
  {
   "cell_type": "code",
   "execution_count": 297,
   "id": "196d41bb",
   "metadata": {},
   "outputs": [
    {
     "name": "stdout",
     "output_type": "stream",
     "text": [
      "[[ 7  0  0  0  0]\n",
      " [ 0  4  0  0  0]\n",
      " [ 0  0  4  0  0]\n",
      " [ 0  0  0 13  0]\n",
      " [ 0  0  0  0 22]]\n",
      "[1. 1. 1. 1. 1.]\n",
      "[1. 1. 1. 1. 1.]\n",
      "[1. 1. 1. 1. 1.]\n",
      "1.0\n",
      "1.0\n",
      "1.0\n"
     ]
    }
   ],
   "source": [
    "# 5b - Base Decision Tree\n",
    "decision_tree = tree.DecisionTreeClassifier()\n",
    "decision_tree.fit(training_x, training_y)\n",
    "base_dt_y_pred = decision_tree.predict(test_x)\n",
    "print(base_dt_y_pred)\n",
    "\n",
    "# confusion matrix\n",
    "print(confusion_matrix(test_y, base_dt_y_pred))\n",
    "\n",
    "# precision score\n",
    "print(precision_score(test_y, base_dt_y_pred, average=None))\n",
    "\n",
    "# recall score\n",
    "print(recall_score(test_y, base_dt_y_pred, average=None))\n",
    "\n",
    "# f1-measure\n",
    "print(f1_score(test_y, base_dt_y_pred, average=None))\n",
    "\n",
    "# accuracy\n",
    "print(accuracy_score(test_y, base_dt_y_pred))\n",
    "\n",
    "# macro-average f1\n",
    "print(f1_score(test_y, base_dt_y_pred, average='macro'))\n",
    "\n",
    "# weighted-average f1\n",
    "print(f1_score(test_y, base_dt_y_pred, average='weighted'))"
   ]
  },
  {
   "cell_type": "code",
   "execution_count": 298,
   "id": "e4c111c8",
   "metadata": {},
   "outputs": [
    {
     "name": "stdout",
     "output_type": "stream",
     "text": [
      "Fitting 5 folds for each of 12 candidates, totalling 60 fits\n",
      "[[ 7  0  0  0  0]\n",
      " [ 0  4  0  0  0]\n",
      " [ 0  0  4  0  0]\n",
      " [ 0  0  0 13  0]\n",
      " [ 0  0  0  0 22]]\n",
      "[1. 1. 1. 1. 1.]\n",
      "[1. 1. 1. 1. 1.]\n",
      "[1. 1. 1. 1. 1.]\n",
      "1.0\n",
      "1.0\n",
      "1.0\n"
     ]
    }
   ],
   "source": [
    "# 5c - Top Decision Tree\n",
    "decision_tree = tree.DecisionTreeClassifier()\n",
    "params = {\n",
    "    'criterion': ['gini', 'entropy'],\n",
    "    'max_depth': [5, 17],\n",
    "    'min_samples_split': [2, 8, 18]\n",
    "}\n",
    "grid_tree = GridSearchCV(estimator = decision_tree,\n",
    "                         param_grid = params,\n",
    "                         scoring = 'accuracy',\n",
    "                         cv = 5,\n",
    "                         verbose = 1,\n",
    "                         n_jobs = -1)\n",
    "\n",
    "grid_tree.fit(training_x, training_y)\n",
    "print(grid_tree.best_estimator_)\n",
    "\n",
    "# Using best estimator (DecisionTreeClassifier(max_depth=5))\n",
    "decision_tree = tree.DecisionTreeClassifier()\n",
    "decision_tree.fit(training_x, training_y)\n",
    "base_dt_y_pred = decision_tree.predict(test_x)\n",
    "\n",
    "# confusion matrix\n",
    "print(confusion_matrix(test_y, base_dt_y_pred))\n",
    "\n",
    "# precision score\n",
    "print(precision_score(test_y, base_dt_y_pred, average=None))\n",
    "\n",
    "# recall score\n",
    "print(recall_score(test_y, base_dt_y_pred, average=None))\n",
    "\n",
    "# f1-measure\n",
    "print(f1_score(test_y, base_dt_y_pred, average=None))\n",
    "\n",
    "# accuracy\n",
    "print(accuracy_score(test_y, base_dt_y_pred))\n",
    "\n",
    "# macro-average f1\n",
    "print(f1_score(test_y, base_dt_y_pred, average='macro'))\n",
    "\n",
    "# weighted-average f1\n",
    "print(f1_score(test_y, base_dt_y_pred, average='weighted'))"
   ]
  },
  {
   "cell_type": "code",
   "execution_count": 299,
   "id": "07b66fd8",
   "metadata": {},
   "outputs": [
    {
     "name": "stdout",
     "output_type": "stream",
     "text": [
      "0.5\n",
      "[[ 0  2  0  0  5]\n",
      " [ 0  3  0  0  1]\n",
      " [ 0  1  0  0  3]\n",
      " [ 0  5  0  0  8]\n",
      " [ 0  0  0  0 22]]\n",
      "[0.         0.27272727 0.         0.         0.56410256]\n",
      "[0.   0.75 0.   0.   1.  ]\n",
      "[0.         0.4        0.         0.         0.72131148]\n",
      "0.5\n",
      "0.2242622950819672\n",
      "0.34937704918032786\n"
     ]
    },
    {
     "name": "stderr",
     "output_type": "stream",
     "text": [
      "/Users/matthewfrances/Documents/development/School/Fall2021/COMP472/COMP472_Mini_Project_1/venv/lib/python3.8/site-packages/sklearn/metrics/_classification.py:1308: UndefinedMetricWarning: Precision is ill-defined and being set to 0.0 in labels with no predicted samples. Use `zero_division` parameter to control this behavior.\n",
      "  _warn_prf(average, modifier, msg_start, len(result))\n"
     ]
    }
   ],
   "source": [
    "# 5d - Perceptron\n",
    "perceptron = Perceptron()\n",
    "perceptron.fit(training_x, training_y)\n",
    "print(perceptron.score(test_x, test_y))\n",
    "perceptron_y_pred = perceptron.predict(test_x)\n",
    "print(perceptron_y_pred)\n",
    "\n",
    "# confusion matrix\n",
    "print(confusion_matrix(test_y, perceptron_y_pred))\n",
    "\n",
    "# precision score\n",
    "print(precision_score(test_y, perceptron_y_pred, average=None))\n",
    "\n",
    "# recall score\n",
    "print(recall_score(test_y, perceptron_y_pred, average=None))\n",
    "\n",
    "# f1-measure\n",
    "print(f1_score(test_y, perceptron_y_pred, average=None))\n",
    "\n",
    "# accuracy\n",
    "print(accuracy_score(test_y, perceptron_y_pred))\n",
    "\n",
    "# macro-average f1\n",
    "print(f1_score(test_y, perceptron_y_pred, average='macro'))\n",
    "\n",
    "# weighted-average f1\n",
    "print(f1_score(test_y, perceptron_y_pred, average='weighted'))"
   ]
  },
  {
   "cell_type": "code",
   "execution_count": 301,
   "id": "ad1eaf56",
   "metadata": {},
   "outputs": [
    {
     "name": "stdout",
     "output_type": "stream",
     "text": [
      "[[ 0  0  0  0  7]\n",
      " [ 0  0  0  0  4]\n",
      " [ 0  0  0  0  4]\n",
      " [ 0  0  0  0 13]\n",
      " [ 0  0  0  0 22]]\n",
      "[0.   0.   0.   0.   0.44]\n",
      "[0. 0. 0. 0. 1.]\n",
      "[0.         0.         0.         0.         0.61111111]\n",
      "0.44\n",
      "0.12222222222222223\n",
      "0.26888888888888896\n"
     ]
    },
    {
     "name": "stderr",
     "output_type": "stream",
     "text": [
      "/Users/matthewfrances/Documents/development/School/Fall2021/COMP472/COMP472_Mini_Project_1/venv/lib/python3.8/site-packages/sklearn/metrics/_classification.py:1308: UndefinedMetricWarning: Precision is ill-defined and being set to 0.0 in labels with no predicted samples. Use `zero_division` parameter to control this behavior.\n",
      "  _warn_prf(average, modifier, msg_start, len(result))\n"
     ]
    }
   ],
   "source": [
    "# 5e - Base Multi-Layered Perceptron\n",
    "base_mlp = MLPClassifier(hidden_layer_sizes=(1,100), activation='logistic', solver='sgd')\n",
    "base_mlp.fit(training_x, training_y)\n",
    "mlp_y_pred = base_mlp.predict(test_x)\n",
    "print(mlp_y_pred)\n",
    "\n",
    "# confusion matrix\n",
    "print(confusion_matrix(test_y, mlp_y_pred))\n",
    "\n",
    "# precision score\n",
    "print(precision_score(test_y, mlp_y_pred, average=None))\n",
    "\n",
    "# recall score\n",
    "print(recall_score(test_y, mlp_y_pred, average=None))\n",
    "\n",
    "# f1-measure\n",
    "print(f1_score(test_y, mlp_y_pred, average=None))\n",
    "\n",
    "# accuracy\n",
    "print(accuracy_score(test_y, mlp_y_pred))\n",
    "\n",
    "# macro-average f1\n",
    "print(f1_score(test_y, mlp_y_pred, average='macro'))\n",
    "\n",
    "# weighted-average f1\n",
    "print(f1_score(test_y, mlp_y_pred, average='weighted'))"
   ]
  },
  {
   "cell_type": "code",
   "execution_count": 302,
   "id": "dc0d2f94",
   "metadata": {
    "scrolled": false
   },
   "outputs": [
    {
     "name": "stderr",
     "output_type": "stream",
     "text": [
      "/Users/matthewfrances/Documents/development/School/Fall2021/COMP472/COMP472_Mini_Project_1/venv/lib/python3.8/site-packages/sklearn/neural_network/_multilayer_perceptron.py:692: ConvergenceWarning: Stochastic Optimizer: Maximum iterations (200) reached and the optimization hasn't converged yet.\n",
      "  warnings.warn(\n",
      "/Users/matthewfrances/Documents/development/School/Fall2021/COMP472/COMP472_Mini_Project_1/venv/lib/python3.8/site-packages/sklearn/neural_network/_multilayer_perceptron.py:692: ConvergenceWarning: Stochastic Optimizer: Maximum iterations (200) reached and the optimization hasn't converged yet.\n",
      "  warnings.warn(\n",
      "/Users/matthewfrances/Documents/development/School/Fall2021/COMP472/COMP472_Mini_Project_1/venv/lib/python3.8/site-packages/sklearn/neural_network/_multilayer_perceptron.py:692: ConvergenceWarning: Stochastic Optimizer: Maximum iterations (200) reached and the optimization hasn't converged yet.\n",
      "  warnings.warn(\n",
      "/Users/matthewfrances/Documents/development/School/Fall2021/COMP472/COMP472_Mini_Project_1/venv/lib/python3.8/site-packages/sklearn/neural_network/_multilayer_perceptron.py:692: ConvergenceWarning: Stochastic Optimizer: Maximum iterations (200) reached and the optimization hasn't converged yet.\n",
      "  warnings.warn(\n",
      "/Users/matthewfrances/Documents/development/School/Fall2021/COMP472/COMP472_Mini_Project_1/venv/lib/python3.8/site-packages/sklearn/neural_network/_multilayer_perceptron.py:692: ConvergenceWarning: Stochastic Optimizer: Maximum iterations (200) reached and the optimization hasn't converged yet.\n",
      "  warnings.warn(\n",
      "/Users/matthewfrances/Documents/development/School/Fall2021/COMP472/COMP472_Mini_Project_1/venv/lib/python3.8/site-packages/sklearn/neural_network/_multilayer_perceptron.py:692: ConvergenceWarning: Stochastic Optimizer: Maximum iterations (200) reached and the optimization hasn't converged yet.\n",
      "  warnings.warn(\n",
      "/Users/matthewfrances/Documents/development/School/Fall2021/COMP472/COMP472_Mini_Project_1/venv/lib/python3.8/site-packages/sklearn/neural_network/_multilayer_perceptron.py:692: ConvergenceWarning: Stochastic Optimizer: Maximum iterations (200) reached and the optimization hasn't converged yet.\n",
      "  warnings.warn(\n",
      "/Users/matthewfrances/Documents/development/School/Fall2021/COMP472/COMP472_Mini_Project_1/venv/lib/python3.8/site-packages/sklearn/neural_network/_multilayer_perceptron.py:692: ConvergenceWarning: Stochastic Optimizer: Maximum iterations (200) reached and the optimization hasn't converged yet.\n",
      "  warnings.warn(\n",
      "/Users/matthewfrances/Documents/development/School/Fall2021/COMP472/COMP472_Mini_Project_1/venv/lib/python3.8/site-packages/sklearn/neural_network/_multilayer_perceptron.py:692: ConvergenceWarning: Stochastic Optimizer: Maximum iterations (200) reached and the optimization hasn't converged yet.\n",
      "  warnings.warn(\n",
      "/Users/matthewfrances/Documents/development/School/Fall2021/COMP472/COMP472_Mini_Project_1/venv/lib/python3.8/site-packages/sklearn/neural_network/_multilayer_perceptron.py:692: ConvergenceWarning: Stochastic Optimizer: Maximum iterations (200) reached and the optimization hasn't converged yet.\n",
      "  warnings.warn(\n",
      "/Users/matthewfrances/Documents/development/School/Fall2021/COMP472/COMP472_Mini_Project_1/venv/lib/python3.8/site-packages/sklearn/neural_network/_multilayer_perceptron.py:692: ConvergenceWarning: Stochastic Optimizer: Maximum iterations (200) reached and the optimization hasn't converged yet.\n",
      "  warnings.warn(\n",
      "/Users/matthewfrances/Documents/development/School/Fall2021/COMP472/COMP472_Mini_Project_1/venv/lib/python3.8/site-packages/sklearn/neural_network/_multilayer_perceptron.py:692: ConvergenceWarning: Stochastic Optimizer: Maximum iterations (200) reached and the optimization hasn't converged yet.\n",
      "  warnings.warn(\n",
      "/Users/matthewfrances/Documents/development/School/Fall2021/COMP472/COMP472_Mini_Project_1/venv/lib/python3.8/site-packages/sklearn/neural_network/_multilayer_perceptron.py:692: ConvergenceWarning: Stochastic Optimizer: Maximum iterations (200) reached and the optimization hasn't converged yet.\n",
      "  warnings.warn(\n",
      "/Users/matthewfrances/Documents/development/School/Fall2021/COMP472/COMP472_Mini_Project_1/venv/lib/python3.8/site-packages/sklearn/neural_network/_multilayer_perceptron.py:692: ConvergenceWarning: Stochastic Optimizer: Maximum iterations (200) reached and the optimization hasn't converged yet.\n",
      "  warnings.warn(\n",
      "/Users/matthewfrances/Documents/development/School/Fall2021/COMP472/COMP472_Mini_Project_1/venv/lib/python3.8/site-packages/sklearn/neural_network/_multilayer_perceptron.py:692: ConvergenceWarning: Stochastic Optimizer: Maximum iterations (200) reached and the optimization hasn't converged yet.\n",
      "  warnings.warn(\n",
      "/Users/matthewfrances/Documents/development/School/Fall2021/COMP472/COMP472_Mini_Project_1/venv/lib/python3.8/site-packages/sklearn/neural_network/_multilayer_perceptron.py:692: ConvergenceWarning: Stochastic Optimizer: Maximum iterations (200) reached and the optimization hasn't converged yet.\n",
      "  warnings.warn(\n",
      "/Users/matthewfrances/Documents/development/School/Fall2021/COMP472/COMP472_Mini_Project_1/venv/lib/python3.8/site-packages/sklearn/neural_network/_multilayer_perceptron.py:692: ConvergenceWarning: Stochastic Optimizer: Maximum iterations (200) reached and the optimization hasn't converged yet.\n",
      "  warnings.warn(\n",
      "/Users/matthewfrances/Documents/development/School/Fall2021/COMP472/COMP472_Mini_Project_1/venv/lib/python3.8/site-packages/sklearn/neural_network/_multilayer_perceptron.py:692: ConvergenceWarning: Stochastic Optimizer: Maximum iterations (200) reached and the optimization hasn't converged yet.\n",
      "  warnings.warn(\n",
      "/Users/matthewfrances/Documents/development/School/Fall2021/COMP472/COMP472_Mini_Project_1/venv/lib/python3.8/site-packages/sklearn/neural_network/_multilayer_perceptron.py:692: ConvergenceWarning: Stochastic Optimizer: Maximum iterations (200) reached and the optimization hasn't converged yet.\n",
      "  warnings.warn(\n",
      "/Users/matthewfrances/Documents/development/School/Fall2021/COMP472/COMP472_Mini_Project_1/venv/lib/python3.8/site-packages/sklearn/neural_network/_multilayer_perceptron.py:692: ConvergenceWarning: Stochastic Optimizer: Maximum iterations (200) reached and the optimization hasn't converged yet.\n",
      "  warnings.warn(\n",
      "/Users/matthewfrances/Documents/development/School/Fall2021/COMP472/COMP472_Mini_Project_1/venv/lib/python3.8/site-packages/sklearn/neural_network/_multilayer_perceptron.py:692: ConvergenceWarning: Stochastic Optimizer: Maximum iterations (200) reached and the optimization hasn't converged yet.\n",
      "  warnings.warn(\n",
      "/Users/matthewfrances/Documents/development/School/Fall2021/COMP472/COMP472_Mini_Project_1/venv/lib/python3.8/site-packages/sklearn/neural_network/_multilayer_perceptron.py:692: ConvergenceWarning: Stochastic Optimizer: Maximum iterations (200) reached and the optimization hasn't converged yet.\n",
      "  warnings.warn(\n",
      "/Users/matthewfrances/Documents/development/School/Fall2021/COMP472/COMP472_Mini_Project_1/venv/lib/python3.8/site-packages/sklearn/neural_network/_multilayer_perceptron.py:692: ConvergenceWarning: Stochastic Optimizer: Maximum iterations (200) reached and the optimization hasn't converged yet.\n",
      "  warnings.warn(\n",
      "/Users/matthewfrances/Documents/development/School/Fall2021/COMP472/COMP472_Mini_Project_1/venv/lib/python3.8/site-packages/sklearn/neural_network/_multilayer_perceptron.py:692: ConvergenceWarning: Stochastic Optimizer: Maximum iterations (200) reached and the optimization hasn't converged yet.\n",
      "  warnings.warn(\n",
      "/Users/matthewfrances/Documents/development/School/Fall2021/COMP472/COMP472_Mini_Project_1/venv/lib/python3.8/site-packages/sklearn/neural_network/_multilayer_perceptron.py:692: ConvergenceWarning: Stochastic Optimizer: Maximum iterations (200) reached and the optimization hasn't converged yet.\n",
      "  warnings.warn(\n",
      "/Users/matthewfrances/Documents/development/School/Fall2021/COMP472/COMP472_Mini_Project_1/venv/lib/python3.8/site-packages/sklearn/neural_network/_multilayer_perceptron.py:692: ConvergenceWarning: Stochastic Optimizer: Maximum iterations (200) reached and the optimization hasn't converged yet.\n",
      "  warnings.warn(\n",
      "/Users/matthewfrances/Documents/development/School/Fall2021/COMP472/COMP472_Mini_Project_1/venv/lib/python3.8/site-packages/sklearn/neural_network/_multilayer_perceptron.py:692: ConvergenceWarning: Stochastic Optimizer: Maximum iterations (200) reached and the optimization hasn't converged yet.\n",
      "  warnings.warn(\n"
     ]
    },
    {
     "name": "stderr",
     "output_type": "stream",
     "text": [
      "/Users/matthewfrances/Documents/development/School/Fall2021/COMP472/COMP472_Mini_Project_1/venv/lib/python3.8/site-packages/sklearn/neural_network/_multilayer_perceptron.py:692: ConvergenceWarning: Stochastic Optimizer: Maximum iterations (200) reached and the optimization hasn't converged yet.\n",
      "  warnings.warn(\n",
      "/Users/matthewfrances/Documents/development/School/Fall2021/COMP472/COMP472_Mini_Project_1/venv/lib/python3.8/site-packages/sklearn/neural_network/_multilayer_perceptron.py:692: ConvergenceWarning: Stochastic Optimizer: Maximum iterations (200) reached and the optimization hasn't converged yet.\n",
      "  warnings.warn(\n",
      "/Users/matthewfrances/Documents/development/School/Fall2021/COMP472/COMP472_Mini_Project_1/venv/lib/python3.8/site-packages/sklearn/neural_network/_multilayer_perceptron.py:692: ConvergenceWarning: Stochastic Optimizer: Maximum iterations (200) reached and the optimization hasn't converged yet.\n",
      "  warnings.warn(\n",
      "/Users/matthewfrances/Documents/development/School/Fall2021/COMP472/COMP472_Mini_Project_1/venv/lib/python3.8/site-packages/sklearn/neural_network/_multilayer_perceptron.py:692: ConvergenceWarning: Stochastic Optimizer: Maximum iterations (200) reached and the optimization hasn't converged yet.\n",
      "  warnings.warn(\n",
      "/Users/matthewfrances/Documents/development/School/Fall2021/COMP472/COMP472_Mini_Project_1/venv/lib/python3.8/site-packages/sklearn/neural_network/_multilayer_perceptron.py:692: ConvergenceWarning: Stochastic Optimizer: Maximum iterations (200) reached and the optimization hasn't converged yet.\n",
      "  warnings.warn(\n",
      "/Users/matthewfrances/Documents/development/School/Fall2021/COMP472/COMP472_Mini_Project_1/venv/lib/python3.8/site-packages/sklearn/neural_network/_multilayer_perceptron.py:692: ConvergenceWarning: Stochastic Optimizer: Maximum iterations (200) reached and the optimization hasn't converged yet.\n",
      "  warnings.warn(\n",
      "/Users/matthewfrances/Documents/development/School/Fall2021/COMP472/COMP472_Mini_Project_1/venv/lib/python3.8/site-packages/sklearn/neural_network/_multilayer_perceptron.py:692: ConvergenceWarning: Stochastic Optimizer: Maximum iterations (200) reached and the optimization hasn't converged yet.\n",
      "  warnings.warn(\n",
      "/Users/matthewfrances/Documents/development/School/Fall2021/COMP472/COMP472_Mini_Project_1/venv/lib/python3.8/site-packages/sklearn/neural_network/_multilayer_perceptron.py:692: ConvergenceWarning: Stochastic Optimizer: Maximum iterations (200) reached and the optimization hasn't converged yet.\n",
      "  warnings.warn(\n",
      "/Users/matthewfrances/Documents/development/School/Fall2021/COMP472/COMP472_Mini_Project_1/venv/lib/python3.8/site-packages/sklearn/neural_network/_multilayer_perceptron.py:692: ConvergenceWarning: Stochastic Optimizer: Maximum iterations (200) reached and the optimization hasn't converged yet.\n",
      "  warnings.warn(\n",
      "/Users/matthewfrances/Documents/development/School/Fall2021/COMP472/COMP472_Mini_Project_1/venv/lib/python3.8/site-packages/sklearn/neural_network/_multilayer_perceptron.py:692: ConvergenceWarning: Stochastic Optimizer: Maximum iterations (200) reached and the optimization hasn't converged yet.\n",
      "  warnings.warn(\n",
      "/Users/matthewfrances/Documents/development/School/Fall2021/COMP472/COMP472_Mini_Project_1/venv/lib/python3.8/site-packages/sklearn/neural_network/_multilayer_perceptron.py:692: ConvergenceWarning: Stochastic Optimizer: Maximum iterations (200) reached and the optimization hasn't converged yet.\n",
      "  warnings.warn(\n",
      "/Users/matthewfrances/Documents/development/School/Fall2021/COMP472/COMP472_Mini_Project_1/venv/lib/python3.8/site-packages/sklearn/neural_network/_multilayer_perceptron.py:692: ConvergenceWarning: Stochastic Optimizer: Maximum iterations (200) reached and the optimization hasn't converged yet.\n",
      "  warnings.warn(\n",
      "/Users/matthewfrances/Documents/development/School/Fall2021/COMP472/COMP472_Mini_Project_1/venv/lib/python3.8/site-packages/sklearn/neural_network/_multilayer_perceptron.py:692: ConvergenceWarning: Stochastic Optimizer: Maximum iterations (200) reached and the optimization hasn't converged yet.\n",
      "  warnings.warn(\n",
      "/Users/matthewfrances/Documents/development/School/Fall2021/COMP472/COMP472_Mini_Project_1/venv/lib/python3.8/site-packages/sklearn/neural_network/_multilayer_perceptron.py:692: ConvergenceWarning: Stochastic Optimizer: Maximum iterations (200) reached and the optimization hasn't converged yet.\n",
      "  warnings.warn(\n",
      "/Users/matthewfrances/Documents/development/School/Fall2021/COMP472/COMP472_Mini_Project_1/venv/lib/python3.8/site-packages/sklearn/neural_network/_multilayer_perceptron.py:692: ConvergenceWarning: Stochastic Optimizer: Maximum iterations (200) reached and the optimization hasn't converged yet.\n",
      "  warnings.warn(\n",
      "/Users/matthewfrances/Documents/development/School/Fall2021/COMP472/COMP472_Mini_Project_1/venv/lib/python3.8/site-packages/sklearn/neural_network/_multilayer_perceptron.py:692: ConvergenceWarning: Stochastic Optimizer: Maximum iterations (200) reached and the optimization hasn't converged yet.\n",
      "  warnings.warn(\n",
      "/Users/matthewfrances/Documents/development/School/Fall2021/COMP472/COMP472_Mini_Project_1/venv/lib/python3.8/site-packages/sklearn/neural_network/_multilayer_perceptron.py:692: ConvergenceWarning: Stochastic Optimizer: Maximum iterations (200) reached and the optimization hasn't converged yet.\n",
      "  warnings.warn(\n",
      "/Users/matthewfrances/Documents/development/School/Fall2021/COMP472/COMP472_Mini_Project_1/venv/lib/python3.8/site-packages/sklearn/neural_network/_multilayer_perceptron.py:692: ConvergenceWarning: Stochastic Optimizer: Maximum iterations (200) reached and the optimization hasn't converged yet.\n",
      "  warnings.warn(\n",
      "/Users/matthewfrances/Documents/development/School/Fall2021/COMP472/COMP472_Mini_Project_1/venv/lib/python3.8/site-packages/sklearn/neural_network/_multilayer_perceptron.py:692: ConvergenceWarning: Stochastic Optimizer: Maximum iterations (200) reached and the optimization hasn't converged yet.\n",
      "  warnings.warn(\n",
      "/Users/matthewfrances/Documents/development/School/Fall2021/COMP472/COMP472_Mini_Project_1/venv/lib/python3.8/site-packages/sklearn/neural_network/_multilayer_perceptron.py:692: ConvergenceWarning: Stochastic Optimizer: Maximum iterations (200) reached and the optimization hasn't converged yet.\n",
      "  warnings.warn(\n",
      "/Users/matthewfrances/Documents/development/School/Fall2021/COMP472/COMP472_Mini_Project_1/venv/lib/python3.8/site-packages/sklearn/neural_network/_multilayer_perceptron.py:692: ConvergenceWarning: Stochastic Optimizer: Maximum iterations (200) reached and the optimization hasn't converged yet.\n",
      "  warnings.warn(\n",
      "/Users/matthewfrances/Documents/development/School/Fall2021/COMP472/COMP472_Mini_Project_1/venv/lib/python3.8/site-packages/sklearn/neural_network/_multilayer_perceptron.py:692: ConvergenceWarning: Stochastic Optimizer: Maximum iterations (200) reached and the optimization hasn't converged yet.\n",
      "  warnings.warn(\n",
      "/Users/matthewfrances/Documents/development/School/Fall2021/COMP472/COMP472_Mini_Project_1/venv/lib/python3.8/site-packages/sklearn/neural_network/_multilayer_perceptron.py:692: ConvergenceWarning: Stochastic Optimizer: Maximum iterations (200) reached and the optimization hasn't converged yet.\n",
      "  warnings.warn(\n",
      "/Users/matthewfrances/Documents/development/School/Fall2021/COMP472/COMP472_Mini_Project_1/venv/lib/python3.8/site-packages/sklearn/neural_network/_multilayer_perceptron.py:692: ConvergenceWarning: Stochastic Optimizer: Maximum iterations (200) reached and the optimization hasn't converged yet.\n",
      "  warnings.warn(\n",
      "/Users/matthewfrances/Documents/development/School/Fall2021/COMP472/COMP472_Mini_Project_1/venv/lib/python3.8/site-packages/sklearn/neural_network/_multilayer_perceptron.py:692: ConvergenceWarning: Stochastic Optimizer: Maximum iterations (200) reached and the optimization hasn't converged yet.\n",
      "  warnings.warn(\n",
      "/Users/matthewfrances/Documents/development/School/Fall2021/COMP472/COMP472_Mini_Project_1/venv/lib/python3.8/site-packages/sklearn/neural_network/_multilayer_perceptron.py:692: ConvergenceWarning: Stochastic Optimizer: Maximum iterations (200) reached and the optimization hasn't converged yet.\n",
      "  warnings.warn(\n",
      "/Users/matthewfrances/Documents/development/School/Fall2021/COMP472/COMP472_Mini_Project_1/venv/lib/python3.8/site-packages/sklearn/neural_network/_multilayer_perceptron.py:692: ConvergenceWarning: Stochastic Optimizer: Maximum iterations (200) reached and the optimization hasn't converged yet.\n",
      "  warnings.warn(\n",
      "/Users/matthewfrances/Documents/development/School/Fall2021/COMP472/COMP472_Mini_Project_1/venv/lib/python3.8/site-packages/sklearn/neural_network/_multilayer_perceptron.py:692: ConvergenceWarning: Stochastic Optimizer: Maximum iterations (200) reached and the optimization hasn't converged yet.\n",
      "  warnings.warn(\n",
      "/Users/matthewfrances/Documents/development/School/Fall2021/COMP472/COMP472_Mini_Project_1/venv/lib/python3.8/site-packages/sklearn/neural_network/_multilayer_perceptron.py:692: ConvergenceWarning: Stochastic Optimizer: Maximum iterations (200) reached and the optimization hasn't converged yet.\n",
      "  warnings.warn(\n"
     ]
    },
    {
     "name": "stderr",
     "output_type": "stream",
     "text": [
      "/Users/matthewfrances/Documents/development/School/Fall2021/COMP472/COMP472_Mini_Project_1/venv/lib/python3.8/site-packages/sklearn/neural_network/_multilayer_perceptron.py:692: ConvergenceWarning: Stochastic Optimizer: Maximum iterations (200) reached and the optimization hasn't converged yet.\n",
      "  warnings.warn(\n",
      "/Users/matthewfrances/Documents/development/School/Fall2021/COMP472/COMP472_Mini_Project_1/venv/lib/python3.8/site-packages/sklearn/neural_network/_multilayer_perceptron.py:692: ConvergenceWarning: Stochastic Optimizer: Maximum iterations (200) reached and the optimization hasn't converged yet.\n",
      "  warnings.warn(\n",
      "/Users/matthewfrances/Documents/development/School/Fall2021/COMP472/COMP472_Mini_Project_1/venv/lib/python3.8/site-packages/sklearn/neural_network/_multilayer_perceptron.py:692: ConvergenceWarning: Stochastic Optimizer: Maximum iterations (200) reached and the optimization hasn't converged yet.\n",
      "  warnings.warn(\n"
     ]
    },
    {
     "name": "stdout",
     "output_type": "stream",
     "text": [
      "[[ 0  1  0  0  6]\n",
      " [ 0  0  0  3  1]\n",
      " [ 0  0  0  0  4]\n",
      " [ 0  0  0  0 13]\n",
      " [ 0  0  0  0 22]]\n",
      "[0.         0.         0.         0.         0.47826087]\n",
      "[0. 0. 0. 0. 1.]\n",
      "[0.         0.         0.         0.         0.64705882]\n",
      "0.44\n",
      "0.12941176470588237\n",
      "0.2847058823529412\n"
     ]
    },
    {
     "name": "stderr",
     "output_type": "stream",
     "text": [
      "/Users/matthewfrances/Documents/development/School/Fall2021/COMP472/COMP472_Mini_Project_1/venv/lib/python3.8/site-packages/sklearn/neural_network/_multilayer_perceptron.py:692: ConvergenceWarning: Stochastic Optimizer: Maximum iterations (200) reached and the optimization hasn't converged yet.\n",
      "  warnings.warn(\n",
      "/Users/matthewfrances/Documents/development/School/Fall2021/COMP472/COMP472_Mini_Project_1/venv/lib/python3.8/site-packages/sklearn/neural_network/_multilayer_perceptron.py:692: ConvergenceWarning: Stochastic Optimizer: Maximum iterations (200) reached and the optimization hasn't converged yet.\n",
      "  warnings.warn(\n",
      "/Users/matthewfrances/Documents/development/School/Fall2021/COMP472/COMP472_Mini_Project_1/venv/lib/python3.8/site-packages/sklearn/neural_network/_multilayer_perceptron.py:692: ConvergenceWarning: Stochastic Optimizer: Maximum iterations (200) reached and the optimization hasn't converged yet.\n",
      "  warnings.warn(\n",
      "/Users/matthewfrances/Documents/development/School/Fall2021/COMP472/COMP472_Mini_Project_1/venv/lib/python3.8/site-packages/sklearn/metrics/_classification.py:1308: UndefinedMetricWarning: Precision is ill-defined and being set to 0.0 in labels with no predicted samples. Use `zero_division` parameter to control this behavior.\n",
      "  _warn_prf(average, modifier, msg_start, len(result))\n"
     ]
    }
   ],
   "source": [
    "# 5f - Top Multi-Layered Perceptron\n",
    "mlp = MLPClassifier(hidden_layer_sizes=(1,100), activation='logistic', solver='sgd')\n",
    "params = {\n",
    "    'activation': ['logistic', 'tanh', 'relu', 'identity'],\n",
    "    'hidden_layer_sizes': [(2, 35), (3, 10)],\n",
    "    'solver': ['adam', 'sgd']\n",
    "}\n",
    "top_mlp = GridSearchCV(estimator = mlp,\n",
    "                       param_grid = params)\n",
    "top_mlp.fit(training_x, training_y)\n",
    "print(top_mlp.best_estimator_)\n",
    "\n",
    "# Using best estimator (MLPClassifier(activation='identity', hidden_layer_sizes=(2, 35)))\n",
    "base_mlp = MLPClassifier(activation='identity', hidden_layer_sizes=(2, 35))\n",
    "base_mlp.fit(training_x, training_y)\n",
    "mlp_y_pred = base_mlp.predict(test_x)\n",
    "\n",
    "# confusion matrix\n",
    "print(confusion_matrix(test_y, mlp_y_pred))\n",
    "\n",
    "# precision score\n",
    "print(precision_score(test_y, mlp_y_pred, average=None))\n",
    "\n",
    "# recall score\n",
    "print(recall_score(test_y, mlp_y_pred, average=None))\n",
    "\n",
    "# f1-measure\n",
    "print(f1_score(test_y, mlp_y_pred, average=None))\n",
    "\n",
    "# accuracy\n",
    "print(accuracy_score(test_y, mlp_y_pred))\n",
    "\n",
    "# macro-average f1\n",
    "print(f1_score(test_y, mlp_y_pred, average='macro'))\n",
    "\n",
    "# weighted-average f1\n",
    "print(f1_score(test_y, mlp_y_pred, average='weighted'))"
   ]
  },
  {
   "cell_type": "code",
   "execution_count": null,
   "id": "5a8c4a7e",
   "metadata": {},
   "outputs": [],
   "source": []
  }
 ],
 "metadata": {
  "kernelspec": {
   "display_name": "Python 3 (ipykernel)",
   "language": "python",
   "name": "python3"
  },
  "language_info": {
   "codemirror_mode": {
    "name": "ipython",
    "version": 3
   },
   "file_extension": ".py",
   "mimetype": "text/x-python",
   "name": "python",
   "nbconvert_exporter": "python",
   "pygments_lexer": "ipython3",
   "version": "3.8.11"
  }
 },
 "nbformat": 4,
 "nbformat_minor": 5
}
